{
 "cells": [
  {
   "cell_type": "markdown",
   "metadata": {},
   "source": [
    "# Sales Commission Calculation (Monte Carlo)"
   ]
  },
  {
   "cell_type": "markdown",
   "metadata": {},
   "source": [
    "We will try to predict how much money we should budget for sales commissions for the next year using Monte Carlo simulation. This problem is useful for modeling because we have a defined formula for calculating commissions and we likely have some experience with prior years’ commissions payments."
   ]
  },
  {
   "cell_type": "markdown",
   "metadata": {},
   "source": [
    "There are two components to running a Monte Carlo simulation:\n",
    "\n",
    "- the equation to evaluate\n",
    "- the random variables for the input"
   ]
  },
  {
   "cell_type": "code",
   "execution_count": 1,
   "metadata": {},
   "outputs": [],
   "source": [
    "# IMports\n",
    "import pandas as pd\n",
    "import numpy as np\n",
    "import seaborn as sns\n",
    "\n",
    "sns.set_style('whitegrid')"
   ]
  },
  {
   "cell_type": "markdown",
   "metadata": {},
   "source": [
    "For this model, we will use a random number generation from numpy. The handy aspect of numpy is that there are several random number generators that can create random samples based on a predefined distribution.\n",
    "\n",
    "Let's assume our historical percent to target performance is centered around a a mean of 100% and standard deviation of 10%. Let’s define those variables as well as the number of sales reps and simulations we are modeling:"
   ]
  },
  {
   "cell_type": "code",
   "execution_count": 2,
   "metadata": {},
   "outputs": [],
   "source": [
    "avg = 1\n",
    "std_dev = .1\n",
    "num_reps = 500\n",
    "num_simulations = 1000"
   ]
  },
  {
   "cell_type": "code",
   "execution_count": 4,
   "metadata": {},
   "outputs": [],
   "source": [
    "# generate random actual percentages over target sales based on given variables\n",
    "pct_to_target = np.random.normal(avg, std_dev, num_reps).round(2)"
   ]
  },
  {
   "cell_type": "markdown",
   "metadata": {},
   "source": [
    "Here is how first 10 percentages look like:"
   ]
  },
  {
   "cell_type": "code",
   "execution_count": 5,
   "metadata": {},
   "outputs": [
    {
     "data": {
      "text/plain": [
       "array([0.93, 0.87, 0.96, 1.13, 0.97, 1.15, 0.9 , 1.01, 0.86, 1.11])"
      ]
     },
     "execution_count": 5,
     "metadata": {},
     "output_type": "execute_result"
    }
   ],
   "source": [
    "pct_to_target[:10]"
   ]
  },
  {
   "cell_type": "markdown",
   "metadata": {},
   "source": [
    "Let's assume our actual target sales follow a uniform distribution with lower probability rates for some of the values. So we can simulate how different distributions could be incorporated into our model."
   ]
  },
  {
   "cell_type": "code",
   "execution_count": 6,
   "metadata": {},
   "outputs": [],
   "source": [
    "sales_target_values = [75_000, 100_000, 200_000, 300_000, 400_000, 500_000]\n",
    "sales_target_prob = [.3, .3, .2, .1, .05, .05]\n",
    "sales_target = np.random.choice(sales_target_values, num_reps, p=sales_target_prob)"
   ]
  },
  {
   "cell_type": "code",
   "execution_count": 7,
   "metadata": {},
   "outputs": [],
   "source": [
    "df = pd.DataFrame(index=range(num_reps), data={'Pct_To_Target': pct_to_target,\n",
    "                                               'Sales_Target': sales_target})\n",
    "\n",
    "df['Sales'] = df['Pct_To_Target'] * df['Sales_Target']"
   ]
  },
  {
   "cell_type": "code",
   "execution_count": 8,
   "metadata": {},
   "outputs": [
    {
     "data": {
      "text/html": [
       "<div>\n",
       "<style scoped>\n",
       "    .dataframe tbody tr th:only-of-type {\n",
       "        vertical-align: middle;\n",
       "    }\n",
       "\n",
       "    .dataframe tbody tr th {\n",
       "        vertical-align: top;\n",
       "    }\n",
       "\n",
       "    .dataframe thead th {\n",
       "        text-align: right;\n",
       "    }\n",
       "</style>\n",
       "<table border=\"1\" class=\"dataframe\">\n",
       "  <thead>\n",
       "    <tr style=\"text-align: right;\">\n",
       "      <th></th>\n",
       "      <th>Pct_To_Target</th>\n",
       "      <th>Sales_Target</th>\n",
       "      <th>Sales</th>\n",
       "    </tr>\n",
       "  </thead>\n",
       "  <tbody>\n",
       "    <tr>\n",
       "      <th>0</th>\n",
       "      <td>0.93</td>\n",
       "      <td>100000</td>\n",
       "      <td>93000.0</td>\n",
       "    </tr>\n",
       "    <tr>\n",
       "      <th>1</th>\n",
       "      <td>0.87</td>\n",
       "      <td>75000</td>\n",
       "      <td>65250.0</td>\n",
       "    </tr>\n",
       "    <tr>\n",
       "      <th>2</th>\n",
       "      <td>0.96</td>\n",
       "      <td>100000</td>\n",
       "      <td>96000.0</td>\n",
       "    </tr>\n",
       "    <tr>\n",
       "      <th>3</th>\n",
       "      <td>1.13</td>\n",
       "      <td>300000</td>\n",
       "      <td>339000.0</td>\n",
       "    </tr>\n",
       "    <tr>\n",
       "      <th>4</th>\n",
       "      <td>0.97</td>\n",
       "      <td>100000</td>\n",
       "      <td>97000.0</td>\n",
       "    </tr>\n",
       "  </tbody>\n",
       "</table>\n",
       "</div>"
      ],
      "text/plain": [
       "   Pct_To_Target  Sales_Target     Sales\n",
       "0           0.93        100000   93000.0\n",
       "1           0.87         75000   65250.0\n",
       "2           0.96        100000   96000.0\n",
       "3           1.13        300000  339000.0\n",
       "4           0.97        100000   97000.0"
      ]
     },
     "execution_count": 8,
     "metadata": {},
     "output_type": "execute_result"
    }
   ],
   "source": [
    "df.head()"
   ]
  },
  {
   "cell_type": "code",
   "execution_count": 23,
   "metadata": {},
   "outputs": [
    {
     "data": {
      "image/png": "[encoded data removed]",
      "text/plain": [
       "<Figure size 432x288 with 1 Axes>"
      ]
     },
     "metadata": {
      "needs_background": "light"
     },
     "output_type": "display_data"
    }
   ],
   "source": [
    "# Plot % to Target distribution for prior years\n",
    "df['Pct_To_Target'].plot(kind='hist', title='Historical % to Target Distribution');"
   ]
  },
  {
   "cell_type": "code",
   "execution_count": 21,
   "metadata": {},
   "outputs": [
    {
     "data": {
      "image/png": "[encoded data removed]",
      "text/plain": [
       "<Figure size 432x288 with 1 Axes>"
      ]
     },
     "metadata": {
      "needs_background": "light"
     },
     "output_type": "display_data"
    }
   ],
   "source": [
    "# Plot Sales Target distribution\n",
    "df['Sales_Target'].plot(kind='hist', title='Historical Sales Target Distribution');"
   ]
  },
  {
   "cell_type": "markdown",
   "metadata": {},
   "source": [
    "Commission Rate Table:\n",
    "![comm](./commissions.png)"
   ]
  },
  {
   "cell_type": "code",
   "execution_count": 9,
   "metadata": {},
   "outputs": [],
   "source": [
    "def calc_commission_rate(x):\n",
    "\n",
    "    if x <= .90:\n",
    "        return .02\n",
    "    if x <= .99:\n",
    "        return .03\n",
    "    else:\n",
    "        return .04"
   ]
  },
  {
   "cell_type": "code",
   "execution_count": 10,
   "metadata": {},
   "outputs": [],
   "source": [
    "# create commission rate and multiply it by sales\n",
    "df['Commission_Rate'] = df['Pct_To_Target'].apply(calc_commission_rate)\n",
    "df['Commission_Amount'] = df['Commission_Rate'] * df['Sales']"
   ]
  },
  {
   "cell_type": "code",
   "execution_count": 11,
   "metadata": {},
   "outputs": [],
   "source": [
    "# Define a list to keep all the results from each simulation that we want to analyze\n",
    "all_stats = []\n",
    "\n",
    "# Loop through many simulations\n",
    "for i in range(num_simulations):\n",
    "\n",
    "    # Choose random inputs for the sales targets and percent to target\n",
    "    sales_target = np.random.choice(sales_target_values, num_reps, p=sales_target_prob)\n",
    "    pct_to_target = np.random.normal(avg, std_dev, num_reps).round(2)\n",
    "\n",
    "    # Build the dataframe based on the inputs and number of reps\n",
    "    df = pd.DataFrame(index=range(num_reps), data={'Pct_To_Target': pct_to_target,\n",
    "                                                   'Sales_Target': sales_target})\n",
    "\n",
    "    # Back into the sales number using the percent to target rate\n",
    "    df['Sales'] = df['Pct_To_Target'] * df['Sales_Target']\n",
    "\n",
    "    # Determine the commissions rate and calculate it\n",
    "    df['Commission_Rate'] = df['Pct_To_Target'].apply(calc_commission_rate)\n",
    "    df['Commission_Amount'] = df['Commission_Rate'] * df['Sales']\n",
    "\n",
    "    # We want to track sales,commission amounts and sales targets over all the simulations\n",
    "    all_stats.append([df['Sales'].sum().round(0),\n",
    "                      df['Commission_Amount'].sum().round(0),\n",
    "                      df['Sales_Target'].sum().round(0)])"
   ]
  },
  {
   "cell_type": "code",
   "execution_count": 12,
   "metadata": {},
   "outputs": [],
   "source": [
    "results_df = pd.DataFrame.from_records(all_stats, columns=['Sales',\n",
    "                                                           'Commission_Amount',\n",
    "                                                           'Sales_Target'])"
   ]
  },
  {
   "cell_type": "code",
   "execution_count": 14,
   "metadata": {},
   "outputs": [
    {
     "data": {
      "text/html": [
       "<style  type=\"text/css\" >\n",
       "</style><table id=\"T_fd08188a_c557_11ea_8775_dd67974376c4\" ><thead>    <tr>        <th class=\"blank level0\" ></th>        <th class=\"col_heading level0 col0\" >Sales</th>        <th class=\"col_heading level0 col1\" >Commission_Amount</th>        <th class=\"col_heading level0 col2\" >Sales_Target</th>    </tr></thead><tbody>\n",
       "                <tr>\n",
       "                        <th id=\"T_fd08188a_c557_11ea_8775_dd67974376c4level0_row0\" class=\"row_heading level0 row0\" >count</th>\n",
       "                        <td id=\"T_fd08188a_c557_11ea_8775_dd67974376c4row0_col0\" class=\"data row0 col0\" >1,000.0</td>\n",
       "                        <td id=\"T_fd08188a_c557_11ea_8775_dd67974376c4row0_col1\" class=\"data row0 col1\" >1,000.0</td>\n",
       "                        <td id=\"T_fd08188a_c557_11ea_8775_dd67974376c4row0_col2\" class=\"data row0 col2\" >1,000.0</td>\n",
       "            </tr>\n",
       "            <tr>\n",
       "                        <th id=\"T_fd08188a_c557_11ea_8775_dd67974376c4level0_row1\" class=\"row_heading level0 row1\" >mean</th>\n",
       "                        <td id=\"T_fd08188a_c557_11ea_8775_dd67974376c4row1_col0\" class=\"data row1 col0\" >83,780,002.0</td>\n",
       "                        <td id=\"T_fd08188a_c557_11ea_8775_dd67974376c4row1_col1\" class=\"data row1 col1\" >2,861,691.0</td>\n",
       "                        <td id=\"T_fd08188a_c557_11ea_8775_dd67974376c4row1_col2\" class=\"data row1 col2\" >83,762,575.0</td>\n",
       "            </tr>\n",
       "            <tr>\n",
       "                        <th id=\"T_fd08188a_c557_11ea_8775_dd67974376c4level0_row2\" class=\"row_heading level0 row2\" >std</th>\n",
       "                        <td id=\"T_fd08188a_c557_11ea_8775_dd67974376c4row2_col0\" class=\"data row2 col0\" >2,641,761.0</td>\n",
       "                        <td id=\"T_fd08188a_c557_11ea_8775_dd67974376c4row2_col1\" class=\"data row2 col1\" >102,012.0</td>\n",
       "                        <td id=\"T_fd08188a_c557_11ea_8775_dd67974376c4row2_col2\" class=\"data row2 col2\" >2,592,717.0</td>\n",
       "            </tr>\n",
       "            <tr>\n",
       "                        <th id=\"T_fd08188a_c557_11ea_8775_dd67974376c4level0_row3\" class=\"row_heading level0 row3\" >min</th>\n",
       "                        <td id=\"T_fd08188a_c557_11ea_8775_dd67974376c4row3_col0\" class=\"data row3 col0\" >73,057,250.0</td>\n",
       "                        <td id=\"T_fd08188a_c557_11ea_8775_dd67974376c4row3_col1\" class=\"data row3 col1\" >2,480,290.0</td>\n",
       "                        <td id=\"T_fd08188a_c557_11ea_8775_dd67974376c4row3_col2\" class=\"data row3 col2\" >73,125,000.0</td>\n",
       "            </tr>\n",
       "            <tr>\n",
       "                        <th id=\"T_fd08188a_c557_11ea_8775_dd67974376c4level0_row4\" class=\"row_heading level0 row4\" >25%</th>\n",
       "                        <td id=\"T_fd08188a_c557_11ea_8775_dd67974376c4row4_col0\" class=\"data row4 col0\" >81,999,000.0</td>\n",
       "                        <td id=\"T_fd08188a_c557_11ea_8775_dd67974376c4row4_col1\" class=\"data row4 col1\" >2,796,926.0</td>\n",
       "                        <td id=\"T_fd08188a_c557_11ea_8775_dd67974376c4row4_col2\" class=\"data row4 col2\" >82,100,000.0</td>\n",
       "            </tr>\n",
       "            <tr>\n",
       "                        <th id=\"T_fd08188a_c557_11ea_8775_dd67974376c4level0_row5\" class=\"row_heading level0 row5\" >50%</th>\n",
       "                        <td id=\"T_fd08188a_c557_11ea_8775_dd67974376c4row5_col0\" class=\"data row5 col0\" >83,792,125.0</td>\n",
       "                        <td id=\"T_fd08188a_c557_11ea_8775_dd67974376c4row5_col1\" class=\"data row5 col1\" >2,858,714.0</td>\n",
       "                        <td id=\"T_fd08188a_c557_11ea_8775_dd67974376c4row5_col2\" class=\"data row5 col2\" >83,700,000.0</td>\n",
       "            </tr>\n",
       "            <tr>\n",
       "                        <th id=\"T_fd08188a_c557_11ea_8775_dd67974376c4level0_row6\" class=\"row_heading level0 row6\" >75%</th>\n",
       "                        <td id=\"T_fd08188a_c557_11ea_8775_dd67974376c4row6_col0\" class=\"data row6 col0\" >85,471,875.0</td>\n",
       "                        <td id=\"T_fd08188a_c557_11ea_8775_dd67974376c4row6_col1\" class=\"data row6 col1\" >2,927,998.0</td>\n",
       "                        <td id=\"T_fd08188a_c557_11ea_8775_dd67974376c4row6_col2\" class=\"data row6 col2\" >85,450,000.0</td>\n",
       "            </tr>\n",
       "            <tr>\n",
       "                        <th id=\"T_fd08188a_c557_11ea_8775_dd67974376c4level0_row7\" class=\"row_heading level0 row7\" >max</th>\n",
       "                        <td id=\"T_fd08188a_c557_11ea_8775_dd67974376c4row7_col0\" class=\"data row7 col0\" >91,569,000.0</td>\n",
       "                        <td id=\"T_fd08188a_c557_11ea_8775_dd67974376c4row7_col1\" class=\"data row7 col1\" >3,212,112.0</td>\n",
       "                        <td id=\"T_fd08188a_c557_11ea_8775_dd67974376c4row7_col2\" class=\"data row7 col2\" >91,725,000.0</td>\n",
       "            </tr>\n",
       "    </tbody></table>"
      ],
      "text/plain": [
       "<pandas.io.formats.style.Styler at 0x25218ef7448>"
      ]
     },
     "execution_count": 14,
     "metadata": {},
     "output_type": "execute_result"
    }
   ],
   "source": [
    "# Histogram\n",
    "\n",
    "results_df.describe().round(0).style.format('{:,}')"
   ]
  },
  {
   "cell_type": "code",
   "execution_count": 24,
   "metadata": {},
   "outputs": [
    {
     "data": {
      "image/png": "[encoded data removed]",
      "text/plain": [
       "<Figure size 432x288 with 1 Axes>"
      ]
     },
     "metadata": {
      "needs_background": "light"
     },
     "output_type": "display_data"
    }
   ],
   "source": [
    "# Plot total commission amount distribution\n",
    "results_df['Commission_Amount'].plot(kind='hist', title=\"Total Commission Amount\");"
   ]
  },
  {
   "cell_type": "code",
   "execution_count": 25,
   "metadata": {},
   "outputs": [
    {
     "data": {
      "image/png": "[encoded data removed]",
      "text/plain": [
       "<Figure size 432x288 with 1 Axes>"
      ]
     },
     "metadata": {
      "needs_background": "light"
     },
     "output_type": "display_data"
    }
   ],
   "source": [
    "# Plot Sales distribution\n",
    "results_df['Sales'].plot(kind='hist');"
   ]
  }
 ],
 "metadata": {
  "kernelspec": {
   "display_name": "Python 3",
   "language": "python",
   "name": "python3"
  },
  "language_info": {
   "codemirror_mode": {
    "name": "ipython",
    "version": 3
   },
   "file_extension": ".py",
   "mimetype": "text/x-python",
   "name": "python",
   "nbconvert_exporter": "python",
   "pygments_lexer": "ipython3",
   "version": "3.7.7"
  }
 },
 "nbformat": 4,
 "nbformat_minor": 2
}
